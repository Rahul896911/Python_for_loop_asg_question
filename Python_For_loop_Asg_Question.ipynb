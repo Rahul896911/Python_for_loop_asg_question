{
  "nbformat": 4,
  "nbformat_minor": 0,
  "metadata": {
    "colab": {
      "provenance": [],
      "authorship_tag": "ABX9TyNgduFlbpQC20MrQbF+Q41T",
      "include_colab_link": true
    },
    "kernelspec": {
      "name": "python3",
      "display_name": "Python 3"
    },
    "language_info": {
      "name": "python"
    }
  },
  "cells": [
    {
      "cell_type": "markdown",
      "metadata": {
        "id": "view-in-github",
        "colab_type": "text"
      },
      "source": [
        "<a href=\"https://colab.research.google.com/github/Rahul896911/Python_for_loop_asg_question/blob/main/Python_For_loop_Asg_Question.ipynb\" target=\"_parent\"><img src=\"https://colab.research.google.com/assets/colab-badge.svg\" alt=\"Open In Colab\"/></a>"
      ]
    },
    {
      "cell_type": "code",
      "execution_count": null,
      "metadata": {
        "id": "bjslDy7eEws6"
      },
      "outputs": [],
      "source": [
        "Basic level :\n"
      ]
    },
    {
      "cell_type": "code",
      "source": [
        "#Q1 To print the numbers from 1 to 10 using a for loop,we can use the following code:\n",
        "for i in range(1, 11):\n",
        "    print(i)\n"
      ],
      "metadata": {
        "colab": {
          "base_uri": "https://localhost:8080/"
        },
        "id": "N0xgoduWFIpY",
        "outputId": "6a3c2fd9-4746-43a8-dc9b-a7c463bb3c22"
      },
      "execution_count": null,
      "outputs": [
        {
          "output_type": "stream",
          "name": "stdout",
          "text": [
            "1\n",
            "2\n",
            "3\n",
            "4\n",
            "5\n",
            "6\n",
            "7\n",
            "8\n",
            "9\n",
            "10\n"
          ]
        }
      ]
    },
    {
      "cell_type": "code",
      "source": [
        "#Q2 To calculate the sum of all numbers in a list using a for loop,we can use the following code:\n",
        "numbers = [1, 2, 3, 4, 5]\n",
        "sum = 0\n",
        "for num in numbers:\n",
        "    sum += num\n",
        "print(\"The sum is:\", sum)\n"
      ],
      "metadata": {
        "colab": {
          "base_uri": "https://localhost:8080/"
        },
        "id": "znaPK9u6Gcjt",
        "outputId": "3a46d7c9-4a4d-4dc4-ea14-307d2d205e22"
      },
      "execution_count": null,
      "outputs": [
        {
          "output_type": "stream",
          "name": "stdout",
          "text": [
            "The sum is: 15\n"
          ]
        }
      ]
    },
    {
      "cell_type": "code",
      "source": [
        "#Q3 To print the characters of a string in reverse order using a for loop, we can use the following code:\n",
        "string = \"Hello, World!\"\n",
        "for i in range(len(string)-1, -1, -1):\n",
        "    print(string[i])\n"
      ],
      "metadata": {
        "colab": {
          "base_uri": "https://localhost:8080/"
        },
        "id": "N0fyDXlpGv9V",
        "outputId": "e61d10fd-e77f-47b1-e106-6f4b5fc8bc75"
      },
      "execution_count": null,
      "outputs": [
        {
          "output_type": "stream",
          "name": "stdout",
          "text": [
            "!\n",
            "d\n",
            "l\n",
            "r\n",
            "o\n",
            "W\n",
            " \n",
            ",\n",
            "o\n",
            "l\n",
            "l\n",
            "e\n",
            "H\n"
          ]
        }
      ]
    },
    {
      "cell_type": "code",
      "source": [
        "#Q4 To print the multiplication table of a given numbers  using a for loop,we can use the following code:\n",
        "num = 5\n",
        "factorial = 1\n",
        "for i in range(1, num+1):\n",
        "    factorial *= i\n",
        "print(\"The factorial of\", num, \"is\", factorial)\n"
      ],
      "metadata": {
        "colab": {
          "base_uri": "https://localhost:8080/"
        },
        "id": "_eyvAjhbHKgX",
        "outputId": "d3714256-c074-4255-8764-50f08bba7069"
      },
      "execution_count": null,
      "outputs": [
        {
          "output_type": "stream",
          "name": "stdout",
          "text": [
            "The factorial of 5 is 120\n"
          ]
        }
      ]
    },
    {
      "cell_type": "code",
      "source": [
        "#Q5 To print the multiplication table of a given number using a for loop,we can use the following code:\n",
        "num = 5\n",
        "for i in range(1, 11):\n",
        "    print(num, \"x\", i, \"=\", num*i)\n"
      ],
      "metadata": {
        "colab": {
          "base_uri": "https://localhost:8080/"
        },
        "id": "4kplqILhJLNY",
        "outputId": "44aff3c3-4a99-4792-a7ef-21431d8c8042"
      },
      "execution_count": null,
      "outputs": [
        {
          "output_type": "stream",
          "name": "stdout",
          "text": [
            "5 x 1 = 5\n",
            "5 x 2 = 10\n",
            "5 x 3 = 15\n",
            "5 x 4 = 20\n",
            "5 x 5 = 25\n",
            "5 x 6 = 30\n",
            "5 x 7 = 35\n",
            "5 x 8 = 40\n",
            "5 x 9 = 45\n",
            "5 x 10 = 50\n"
          ]
        }
      ]
    },
    {
      "cell_type": "code",
      "source": [
        "#Q6 To count the number of even and odd numbers in a list using a for loop,we can use the following code:\n",
        "numbers = [1, 2, 3, 4, 5, 6, 7, 8, 9]\n",
        "even_count = 0\n",
        "odd_count = 0\n",
        "for num in numbers:\n",
        "    if num % 2 == 0:\n",
        "        even_count += 1\n",
        "    else:\n",
        "        odd_count += 1\n",
        "print(\"Number of even numbers:\", even_count)\n",
        "print(\"Number of odd numbers:\", odd_count)\n"
      ],
      "metadata": {
        "colab": {
          "base_uri": "https://localhost:8080/"
        },
        "id": "KW5FwCODJyWG",
        "outputId": "7b618a21-b616-4a8c-c52f-d9e24c156697"
      },
      "execution_count": null,
      "outputs": [
        {
          "output_type": "stream",
          "name": "stdout",
          "text": [
            "Number of even numbers: 4\n",
            "Number of odd numbers: 5\n"
          ]
        }
      ]
    },
    {
      "cell_type": "code",
      "source": [
        "#Q7 To print the squares of numbers from 1 to 5 using a for loop,we can use the following code:\n",
        "for i in range(1, 6):\n",
        "    print(i, \"squared is\", i**2)\n"
      ],
      "metadata": {
        "colab": {
          "base_uri": "https://localhost:8080/"
        },
        "id": "W02BlAh7KG9X",
        "outputId": "4ccae6fb-a2a1-46c8-8408-2b853180cb4d"
      },
      "execution_count": null,
      "outputs": [
        {
          "output_type": "stream",
          "name": "stdout",
          "text": [
            "1 squared is 1\n",
            "2 squared is 4\n",
            "3 squared is 9\n",
            "4 squared is 16\n",
            "5 squared is 25\n"
          ]
        }
      ]
    },
    {
      "cell_type": "code",
      "source": [
        "#Q8 To find the length of a string without using the len() function, we can use the following code:\n",
        "string = \"Hello, World!\"\n",
        "count = 0\n",
        "for char in string:\n",
        "    count += 1\n",
        "print(\"The length of the string is:\", count)\n"
      ],
      "metadata": {
        "colab": {
          "base_uri": "https://localhost:8080/"
        },
        "id": "eBeDqJdiKhr9",
        "outputId": "9497caf4-f126-4b42-9fed-8ba137e6a512"
      },
      "execution_count": null,
      "outputs": [
        {
          "output_type": "stream",
          "name": "stdout",
          "text": [
            "The length of the string is: 13\n"
          ]
        }
      ]
    },
    {
      "cell_type": "code",
      "source": [
        "#Q9 To calculate the average of a list of numbers using a for loop,we can use the following code:\n",
        "numbers = [1, 2, 3, 4, 5]\n",
        "sum = 0\n",
        "for num in numbers:\n",
        "    sum += num\n",
        "average = sum / len(numbers)\n",
        "print(\"The average is:\", average)\n"
      ],
      "metadata": {
        "colab": {
          "base_uri": "https://localhost:8080/"
        },
        "id": "W9xEs-5NK7F5",
        "outputId": "0ee5e46c-5aeb-41a4-bfd7-310750ccbbb7"
      },
      "execution_count": null,
      "outputs": [
        {
          "output_type": "stream",
          "name": "stdout",
          "text": [
            "The average is: 3.0\n"
          ]
        }
      ]
    },
    {
      "cell_type": "code",
      "source": [
        "#Q10 To print the  first n Fibonacci numbers using a for loop,you we use the following coe:\n",
        "n = 10\n",
        "fibonacci = [0, 1]\n",
        "for i in range(2, n):\n",
        "    fibonacci.append(fibonacci[i-1] + fibonacci[i-2])\n",
        "print(\"The first\", n, \"Fibonacci numbers are:\", fibonacci)\n"
      ],
      "metadata": {
        "colab": {
          "base_uri": "https://localhost:8080/"
        },
        "id": "EXDh1JIELNQR",
        "outputId": "6c60b0f2-cd4c-4f09-fefa-038d34a52d43"
      },
      "execution_count": null,
      "outputs": [
        {
          "output_type": "stream",
          "name": "stdout",
          "text": [
            "The first 10 Fibonacci numbers are: [0, 1, 1, 2, 3, 5, 8, 13, 21, 34]\n"
          ]
        }
      ]
    },
    {
      "cell_type": "markdown",
      "source": [
        "Intermediate level:\n"
      ],
      "metadata": {
        "id": "bJDpbd3_Mhbc"
      }
    },
    {
      "cell_type": "code",
      "source": [
        "#Q11 To check if a given list contains any duplicates using a for loop , we can use the following code:\n",
        "numbers = [1, 2, 3, 4, 5, 5]\n",
        "for i in range(len(numbers)):\n",
        "    for j in range(i+1, len(numbers)):\n",
        "        if numbers[i] == numbers[j]:\n",
        "            print(\"The list contains duplicates\")\n",
        "            break\n"
      ],
      "metadata": {
        "colab": {
          "base_uri": "https://localhost:8080/"
        },
        "id": "vYU9Ts4bLlJT",
        "outputId": "0b772ce6-576b-40c1-a778-c8f49804743e"
      },
      "execution_count": null,
      "outputs": [
        {
          "output_type": "stream",
          "name": "stdout",
          "text": [
            "The list contains duplicates\n"
          ]
        }
      ]
    },
    {
      "cell_type": "code",
      "source": [
        "#Q12 To print the prime numbers in a given range using a loop,we can use the following code:\n",
        "start = 10\n",
        "end = 50\n",
        "for num in range(start, end+1):\n",
        "    if num > 1:\n",
        "        for i in range(2, num):\n",
        "            if (num % i) == 0:\n",
        "                break\n",
        "        else:\n",
        "            print(num)\n"
      ],
      "metadata": {
        "colab": {
          "base_uri": "https://localhost:8080/"
        },
        "id": "bA6dyO40NNOe",
        "outputId": "42c60de7-f94f-4be1-a068-cd1b6f51d1a5"
      },
      "execution_count": null,
      "outputs": [
        {
          "output_type": "stream",
          "name": "stdout",
          "text": [
            "11\n",
            "13\n",
            "17\n",
            "19\n",
            "23\n",
            "29\n",
            "31\n",
            "37\n",
            "41\n",
            "43\n",
            "47\n"
          ]
        }
      ]
    },
    {
      "cell_type": "code",
      "source": [
        "#Q13 To count the numbers of vowels in a string using a loop,we can use the following code:\n",
        "string = \"Hello, World!\"\n",
        "vowels = \"aeiouAEIOU\"\n",
        "count = 0\n",
        "for char in string:\n",
        "    if char in vowels:\n",
        "        count += 1\n",
        "print(\"The number of vowels is:\", count)\n"
      ],
      "metadata": {
        "colab": {
          "base_uri": "https://localhost:8080/"
        },
        "id": "1u0ZVgTLNkCe",
        "outputId": "41a825fc-55f6-4789-e745-55a536a77282"
      },
      "execution_count": null,
      "outputs": [
        {
          "output_type": "stream",
          "name": "stdout",
          "text": [
            "The number of vowels is: 3\n"
          ]
        }
      ]
    },
    {
      "cell_type": "code",
      "source": [
        "#Q14 To find the maximum element in 2D list using a nested for loop,you can use the following code:\n",
        "matrix = [[1, 2, 3], [4, 5, 6], [7, 8, 9]]\n",
        "max_element = matrix[0][0]\n",
        "for row in matrix:\n",
        "    for element in row:\n",
        "        if element > max_element:\n",
        "            max_element = element\n",
        "print(\"The maximum element is:\", max_element)\n"
      ],
      "metadata": {
        "colab": {
          "base_uri": "https://localhost:8080/"
        },
        "id": "_ZlvMYcKN9eF",
        "outputId": "8d6e1221-2438-46f2-a923-8130223667a0"
      },
      "execution_count": null,
      "outputs": [
        {
          "output_type": "stream",
          "name": "stdout",
          "text": [
            "The maximum element is: 9\n"
          ]
        }
      ]
    },
    {
      "cell_type": "code",
      "source": [
        "#Q15 To remove all occurrences of a specific element from a list using a for loop,you can use the following code:\n",
        "numbers = [1, 2, 3, 4, 5, 5]\n",
        "to_remove = 5\n",
        "for num in numbers:\n",
        "    if num == to_remove:\n",
        "        numbers.remove(num)\n",
        "print(\"The list after removing all occurrences of\", to_remove, \"is:\", numbers)\n"
      ],
      "metadata": {
        "colab": {
          "base_uri": "https://localhost:8080/"
        },
        "id": "vCmF4XWzOlYM",
        "outputId": "ff5c70e3-7b9e-4f42-d37f-f5fa1b4d6b74"
      },
      "execution_count": null,
      "outputs": [
        {
          "output_type": "stream",
          "name": "stdout",
          "text": [
            "The list after removing all occurrences of 5 is: [1, 2, 3, 4, 5]\n"
          ]
        }
      ]
    },
    {
      "cell_type": "code",
      "source": [
        "#Q16 To generate a mulptiplication table for numbers from 1 to 5 using a nested for loop,you can use the following code:\n",
        "for i in range(1, 6):\n",
        "    for j in range(1, 11):\n",
        "        print(i, \"x\", j, \"=\", i*j)\n",
        "    print()\n"
      ],
      "metadata": {
        "colab": {
          "base_uri": "https://localhost:8080/"
        },
        "id": "jKEU308wPBq5",
        "outputId": "b03dc8de-8f83-4602-9a19-6cf82bf7e222"
      },
      "execution_count": null,
      "outputs": [
        {
          "output_type": "stream",
          "name": "stdout",
          "text": [
            "1 x 1 = 1\n",
            "1 x 2 = 2\n",
            "1 x 3 = 3\n",
            "1 x 4 = 4\n",
            "1 x 5 = 5\n",
            "1 x 6 = 6\n",
            "1 x 7 = 7\n",
            "1 x 8 = 8\n",
            "1 x 9 = 9\n",
            "1 x 10 = 10\n",
            "\n",
            "2 x 1 = 2\n",
            "2 x 2 = 4\n",
            "2 x 3 = 6\n",
            "2 x 4 = 8\n",
            "2 x 5 = 10\n",
            "2 x 6 = 12\n",
            "2 x 7 = 14\n",
            "2 x 8 = 16\n",
            "2 x 9 = 18\n",
            "2 x 10 = 20\n",
            "\n",
            "3 x 1 = 3\n",
            "3 x 2 = 6\n",
            "3 x 3 = 9\n",
            "3 x 4 = 12\n",
            "3 x 5 = 15\n",
            "3 x 6 = 18\n",
            "3 x 7 = 21\n",
            "3 x 8 = 24\n",
            "3 x 9 = 27\n",
            "3 x 10 = 30\n",
            "\n",
            "4 x 1 = 4\n",
            "4 x 2 = 8\n",
            "4 x 3 = 12\n",
            "4 x 4 = 16\n",
            "4 x 5 = 20\n",
            "4 x 6 = 24\n",
            "4 x 7 = 28\n",
            "4 x 8 = 32\n",
            "4 x 9 = 36\n",
            "4 x 10 = 40\n",
            "\n",
            "5 x 1 = 5\n",
            "5 x 2 = 10\n",
            "5 x 3 = 15\n",
            "5 x 4 = 20\n",
            "5 x 5 = 25\n",
            "5 x 6 = 30\n",
            "5 x 7 = 35\n",
            "5 x 8 = 40\n",
            "5 x 9 = 45\n",
            "5 x 10 = 50\n",
            "\n"
          ]
        }
      ]
    },
    {
      "cell_type": "code",
      "source": [
        "#Q17 To convert a list of Fahrenheit temperatures to celsius using a for loop,you can use the following code:\n",
        "fahrenheit = [32, 50, 68, 86, 104]\n",
        "celsius = []\n",
        "for temp in fahrenheit:\n",
        "    celsius.append((temp - 32) * 5/9)\n",
        "print(\"The temperatures in Celsius are:\", celsius)\n"
      ],
      "metadata": {
        "colab": {
          "base_uri": "https://localhost:8080/"
        },
        "id": "bjHa0CuzPYa-",
        "outputId": "ca0a199e-b8ce-4714-8c87-0688ab0f8d7d"
      },
      "execution_count": null,
      "outputs": [
        {
          "output_type": "stream",
          "name": "stdout",
          "text": [
            "The temperatures in Celsius are: [0.0, 10.0, 20.0, 30.0, 40.0]\n"
          ]
        }
      ]
    },
    {
      "cell_type": "code",
      "source": [
        "#Q18 To print the common elements from two lists using  a for loop,you can use the following code:\n",
        "list1 = [1, 2, 3, 4, 5]\n",
        "list2 = [4, 5, 6, 7, 8]\n",
        "common = []\n",
        "for num in list1:\n",
        "    if num in list2:\n",
        "        common.append(num)\n",
        "print(\"The common elements are:\", common)\n"
      ],
      "metadata": {
        "colab": {
          "base_uri": "https://localhost:8080/"
        },
        "id": "vZ0oEnTGPzka",
        "outputId": "1e2fe727-f509-4d5c-8e05-39f8392ac83a"
      },
      "execution_count": null,
      "outputs": [
        {
          "output_type": "stream",
          "name": "stdout",
          "text": [
            "The common elements are: [4, 5]\n"
          ]
        }
      ]
    },
    {
      "cell_type": "code",
      "source": [
        "#Q19 To print the pattern of right-angledd triangles using a for loop,you can use the following code:\n",
        "for i in range(1, 6):\n",
        "    for j in range(i):\n",
        "        print(\"*\", end=\"\")\n",
        "    print()\n",
        "\n"
      ],
      "metadata": {
        "colab": {
          "base_uri": "https://localhost:8080/"
        },
        "id": "jWepI4UAQIDR",
        "outputId": "e85aa75d-4480-4f18-ec27-42f5d1cd7b13"
      },
      "execution_count": null,
      "outputs": [
        {
          "output_type": "stream",
          "name": "stdout",
          "text": [
            "*\n",
            "**\n",
            "***\n",
            "****\n",
            "*****\n"
          ]
        }
      ]
    },
    {
      "cell_type": "code",
      "source": [
        "#Q20 To find the greatest common divisor (GCD)of two numbers using a for loop,you can use the following code:\n",
        "num1 = 24\n",
        "num2 = 36\n",
        "gcd = 1\n",
        "for i in range(1, min(num1, num2)+1):\n",
        "    if num1 % i == 0 and num2 % i == 0:\n",
        "        gcd = i\n",
        "print(\"The GCD of\", num1, \"and\", num2, \"is\", gcd)\n"
      ],
      "metadata": {
        "colab": {
          "base_uri": "https://localhost:8080/"
        },
        "id": "l7Q5iP28RDY0",
        "outputId": "da6bd906-cc8b-452d-9e8b-a90b52447148"
      },
      "execution_count": null,
      "outputs": [
        {
          "output_type": "stream",
          "name": "stdout",
          "text": [
            "The GCD of 24 and 36 is 12\n"
          ]
        }
      ]
    },
    {
      "cell_type": "markdown",
      "source": [
        "Advanced level:"
      ],
      "metadata": {
        "id": "w5MmJqiESAjN"
      }
    },
    {
      "cell_type": "code",
      "source": [
        "#Q21 To calculate the sum of the digits of numbers in a list using a list comprehension,you can use the following code:\n",
        "test_list = [12, 67, 98, 34]\n",
        "print(\"The original list is : \" + str(test_list))\n",
        "res = []\n",
        "for ele in test_list:\n",
        "    sum = 0\n",
        "    for digit in str(ele):\n",
        "        sum += int(digit)\n",
        "    res.append(sum)\n",
        "print(\"List Integer Summation : \" + str(res))\n",
        "\n",
        "\n",
        "\n",
        "\n",
        "\n",
        "\n"
      ],
      "metadata": {
        "colab": {
          "base_uri": "https://localhost:8080/"
        },
        "id": "xkP0LlMLRan6",
        "outputId": "30683244-a187-4d1d-b546-da6a602a9be3"
      },
      "execution_count": null,
      "outputs": [
        {
          "output_type": "stream",
          "name": "stdout",
          "text": [
            "The original list is : [12, 67, 98, 34]\n",
            "List Integer Summation : [3, 13, 17, 7]\n"
          ]
        }
      ]
    },
    {
      "cell_type": "code",
      "source": [
        "#Q22 TO find the prime factors of a given number using a for loop and list comprehension,you can use the following code:\n",
        "num = 24\n",
        "factors = [factor for factor in range(2, num+1) if num % factor == 0]\n",
        "prime_factors = [factor for factor in factors if all(factor % i != 0 for i in range(2, factor))]\n",
        "print(\"The prime factors of\", num, \"are:\", prime_factors)\n"
      ],
      "metadata": {
        "colab": {
          "base_uri": "https://localhost:8080/"
        },
        "id": "VvnuBSabShua",
        "outputId": "f7b7dfd4-cf6e-418e-e39b-31437baf5abd"
      },
      "execution_count": null,
      "outputs": [
        {
          "output_type": "stream",
          "name": "stdout",
          "text": [
            "The prime factors of 24 are: [2, 3]\n"
          ]
        }
      ]
    },
    {
      "cell_type": "code",
      "source": [
        "#Q23 TO extract unique elements from a list and strore them in a new list using a list comprehension,you can use the following:\n",
        "numbers = [1, 2, 3, 4, 5, 5, 6, 7, 8, 8, 9]\n",
        "unique = [num for i, num in enumerate(numbers) if num not in numbers[:i]]\n",
        "print(\"The unique elements are:\", unique)\n"
      ],
      "metadata": {
        "colab": {
          "base_uri": "https://localhost:8080/"
        },
        "id": "uNCa96g9Zf0i",
        "outputId": "f04aa90e-5856-40d7-f135-534c05e44a86"
      },
      "execution_count": null,
      "outputs": [
        {
          "output_type": "stream",
          "name": "stdout",
          "text": [
            "The unique elements are: [1, 2, 3, 4, 5, 6, 7, 8, 9]\n"
          ]
        }
      ]
    },
    {
      "cell_type": "code",
      "source": [
        "#Q24 To generate a list of all palindromic numbers up to a specified limit using a list comprehension you can use the following code:\n",
        "limit = 100\n",
        "palindromes = [num for num in range(1, limit+1) if str(num) == str(num)[::-1]]\n",
        "print(\"The palindromic numbers up to\", limit, \"are:\", palindromes)\n"
      ],
      "metadata": {
        "colab": {
          "base_uri": "https://localhost:8080/"
        },
        "id": "TmuXCa3CaN7h",
        "outputId": "fea2e291-cebc-46e4-ab6a-97d551f5eaa7"
      },
      "execution_count": null,
      "outputs": [
        {
          "output_type": "stream",
          "name": "stdout",
          "text": [
            "The palindromic numbers up to 100 are: [1, 2, 3, 4, 5, 6, 7, 8, 9, 11, 22, 33, 44, 55, 66, 77, 88, 99]\n"
          ]
        }
      ]
    },
    {
      "cell_type": "code",
      "source": [
        "#Q25 To Flatten a nested list using list comprehension,you can use the following code:\n",
        "nested = [[1, 2, 3], [4, 5, 6], [7, 8, 9]]\n",
        "flat = [num for sublist in nested for num in sublist]\n",
        "print(\"The flattened list is:\", flat)\n"
      ],
      "metadata": {
        "colab": {
          "base_uri": "https://localhost:8080/"
        },
        "id": "_DM9frYtbG6m",
        "outputId": "a08b6df4-2c30-431b-ba55-4f571235fb37"
      },
      "execution_count": null,
      "outputs": [
        {
          "output_type": "stream",
          "name": "stdout",
          "text": [
            "The flattened list is: [1, 2, 3, 4, 5, 6, 7, 8, 9]\n"
          ]
        }
      ]
    },
    {
      "cell_type": "code",
      "source": [
        "#Q26 To compute the sum of even and odd numbers in a list separately using list comprehension,we can us ethe followin code:\n",
        "def compute_sum_of_even_and_odd_numbers(numbers):\n",
        "    even_sum = sum(n for n in numbers if n % 2 == 0)\n",
        "    odd_sum = sum(n for n in numbers if n % 2 == 1)\n",
        "    return even_sum, odd_sum\n"
      ],
      "metadata": {
        "id": "8iGmIbNxbXXk"
      },
      "execution_count": null,
      "outputs": []
    },
    {
      "cell_type": "code",
      "source": [
        "#Q27 To generate a list of squares ofodd nubers between 1 and 10 using list  comprehension, you can use the following code:\n",
        "\n",
        "squares = [num**2 for num in range(1, 11) if num % 2 != 0]\n",
        "print(\"The squares of odd numbers between 1 and 10 are:\", squares)\n"
      ],
      "metadata": {
        "colab": {
          "base_uri": "https://localhost:8080/"
        },
        "id": "f6IMcFrUbu7f",
        "outputId": "c084e98e-81ba-46c1-ed96-536778e40608"
      },
      "execution_count": null,
      "outputs": [
        {
          "output_type": "stream",
          "name": "stdout",
          "text": [
            "The squares of odd numbers between 1 and 10 are: [1, 9, 25, 49, 81]\n"
          ]
        }
      ]
    },
    {
      "cell_type": "code",
      "source": [
        "#Q28 To combine two lists into a dictionary using list comprehension,you can use the following code:\n",
        "keys = [\"a\", \"b\", \"c\"]\n",
        "values = [1, 2, 3]\n",
        "dictionary = {keys[i]: values[i] for i in range(len(keys))}\n",
        "print(\"The dictionary is:\", dictionary)\n"
      ],
      "metadata": {
        "colab": {
          "base_uri": "https://localhost:8080/"
        },
        "id": "bsHBieorhGDi",
        "outputId": "b5690bb5-326c-4688-97ad-ba377097ec1a"
      },
      "execution_count": null,
      "outputs": [
        {
          "output_type": "stream",
          "name": "stdout",
          "text": [
            "The dictionary is: {'a': 1, 'b': 2, 'c': 3}\n"
          ]
        }
      ]
    },
    {
      "cell_type": "code",
      "source": [
        "#Q29  To extract the vowels from string and store them in a list using comprehension,you can use the following code:\n",
        "string = \"Hello, World!\"\n",
        "vowels = \"aeiouAEIOU\"\n",
        "vowel_list = [char for char in string if char in vowels]\n",
        "print(\"The vowels in the string are:\", vowel_list)\n"
      ],
      "metadata": {
        "colab": {
          "base_uri": "https://localhost:8080/"
        },
        "id": "nCdwu8eJhYQv",
        "outputId": "53cc56db-648e-4116-9e58-3a3332ffc760"
      },
      "execution_count": null,
      "outputs": [
        {
          "output_type": "stream",
          "name": "stdout",
          "text": [
            "The vowels in the string are: ['e', 'o', 'o']\n"
          ]
        }
      ]
    },
    {
      "cell_type": "code",
      "source": [
        "#Q30 To remove all non-numeric characters from a list of strings using list comprehension,you can use the following code:\n",
        "strings = [\"abc\", \"123\", \"def\", \"456\"]\n",
        "numbers = [int(string) for string in strings if string.isdigit()]\n",
        "print(\"The numeric strings are:\", numbers)\n"
      ],
      "metadata": {
        "colab": {
          "base_uri": "https://localhost:8080/"
        },
        "id": "v0LJu7GchxLS",
        "outputId": "e4f7c1ce-7a44-4bc5-89fb-1b5de3118747"
      },
      "execution_count": null,
      "outputs": [
        {
          "output_type": "stream",
          "name": "stdout",
          "text": [
            "The numeric strings are: [123, 456]\n"
          ]
        }
      ]
    },
    {
      "cell_type": "markdown",
      "source": [
        "Challenge loop:"
      ],
      "metadata": {
        "id": "3vb9TlSajHO0"
      }
    },
    {
      "cell_type": "code",
      "source": [
        "#Q31 To generate a list of prime numbers using the sieve of Eratosthenes algorithm and list comprehension,you can us ethe following code:\n",
        "def sieve_of_eratosthenes(n):\n",
        "    primes = [True] * (n + 1)\n",
        "    primes[0], primes[1] = False, False\n",
        "    for i in range(2, int(n ** 0.5) + 1):\n",
        "        if primes[i]:\n",
        "            for j in range(i ** 2, n + 1, i):\n",
        "                primes[j] = False\n",
        "    return [i for i in range(2, n + 1) if primes[i]]\n",
        "\n",
        "print(sieve_of_eratosthenes(50))\n"
      ],
      "metadata": {
        "id": "miMDHNUziLHD",
        "colab": {
          "base_uri": "https://localhost:8080/"
        },
        "outputId": "62d1c539-f167-4f6b-feaa-c24512c63ad9"
      },
      "execution_count": 1,
      "outputs": [
        {
          "output_type": "stream",
          "name": "stdout",
          "text": [
            "[2, 3, 5, 7, 11, 13, 17, 19, 23, 29, 31, 37, 41, 43, 47]\n"
          ]
        }
      ]
    },
    {
      "cell_type": "code",
      "source": [
        "#Q32 To generate a list of all pythagorean triplets up to a specified limit using list comprehension,you can us ethe following code:\n",
        "limit = 20\n",
        "pythagorean_triplets = [(a, b, c) for c in range(1, limit + 1) for b in range(1, c) for a in range(1, b) if a ** 2 + b ** 2 == c ** 2]\n",
        "\n",
        "print(pythagorean_triplets)\n"
      ],
      "metadata": {
        "colab": {
          "base_uri": "https://localhost:8080/"
        },
        "id": "5aIS4_xaDoVC",
        "outputId": "0ac4d359-c9df-4620-842e-4c4877ae417e"
      },
      "execution_count": 2,
      "outputs": [
        {
          "output_type": "stream",
          "name": "stdout",
          "text": [
            "[(3, 4, 5), (6, 8, 10), (5, 12, 13), (9, 12, 15), (8, 15, 17), (12, 16, 20)]\n"
          ]
        }
      ]
    },
    {
      "cell_type": "code",
      "source": [
        "#Q33 To generate a list of all possible combinations of two lists using list comprehension,we can use the followinng code:\n",
        "list1 = [1, 2, 3]\n",
        "list2 = ['a', 'b', 'c']\n",
        "combinations = [(x, y) for x in list1 for y in list2]\n",
        "\n",
        "print(combinations)\n"
      ],
      "metadata": {
        "colab": {
          "base_uri": "https://localhost:8080/"
        },
        "id": "RqnxXI3uENTz",
        "outputId": "232ed0f4-0100-446f-eb45-7ae9faac30c0"
      },
      "execution_count": 3,
      "outputs": [
        {
          "output_type": "stream",
          "name": "stdout",
          "text": [
            "[(1, 'a'), (1, 'b'), (1, 'c'), (2, 'a'), (2, 'b'), (2, 'c'), (3, 'a'), (3, 'b'), (3, 'c')]\n"
          ]
        }
      ]
    },
    {
      "cell_type": "code",
      "source": [
        "#Q34 To calulate the mean , median,and mode of a list of numbers using list comprehension , we can use the following code:\n",
        "from statistics import mean, median, mode\n",
        "\n",
        "numbers = [1, 2, 3, 4, 5, 6, 7, 8, 9, 10]\n",
        "mean = mean(numbers)\n",
        "median = median(numbers)\n",
        "mode = mode(numbers)\n",
        "\n",
        "print(f\"Mean: {mean}, Median: {median}, Mode: {mode}\")\n"
      ],
      "metadata": {
        "colab": {
          "base_uri": "https://localhost:8080/"
        },
        "id": "jkOnkaHHEnc8",
        "outputId": "145be401-2c12-428a-be07-6c8ce348bb42"
      },
      "execution_count": 4,
      "outputs": [
        {
          "output_type": "stream",
          "name": "stdout",
          "text": [
            "Mean: 5.5, Median: 5.5, Mode: 1\n"
          ]
        }
      ]
    },
    {
      "cell_type": "code",
      "source": [
        "#Q35 TO generate pascal's triangle up to a specified number of rows using list comprehension,we  can use the following code :\n",
        "def pascal_triangle(n):\n",
        "    triangle = [[1] * (i + 1) for i in range(n)]\n",
        "    for i in range(n):\n",
        "        for j in range(1, i):\n",
        "            triangle[i][j] = triangle[i - 1][j - 1] + triangle[i - 1][j]\n",
        "    return triangle\n",
        "\n",
        "print(pascal_triangle(5))\n"
      ],
      "metadata": {
        "colab": {
          "base_uri": "https://localhost:8080/"
        },
        "id": "LE-DwXrRE_Uj",
        "outputId": "d8079133-67ec-4cba-c17c-db037c928cf9"
      },
      "execution_count": 5,
      "outputs": [
        {
          "output_type": "stream",
          "name": "stdout",
          "text": [
            "[[1], [1, 1], [1, 2, 1], [1, 3, 3, 1], [1, 4, 6, 4, 1]]\n"
          ]
        }
      ]
    },
    {
      "cell_type": "code",
      "source": [
        "#Q36 TO calculate the sum of the digits of a factorial of numbers from 1 to 5 using list comprehension,we can use the following code:\n",
        "from math import factorial\n",
        "\n",
        "sums = [sum(int(digit) for digit in str(factorial(n))) for n in range(1, 6)]\n",
        "\n",
        "print(sums)\n"
      ],
      "metadata": {
        "colab": {
          "base_uri": "https://localhost:8080/"
        },
        "id": "gZ13yWjvFloS",
        "outputId": "df0578e9-4fb9-4724-cf58-3aa686a25aca"
      },
      "execution_count": 6,
      "outputs": [
        {
          "output_type": "stream",
          "name": "stdout",
          "text": [
            "[1, 2, 6, 6, 3]\n"
          ]
        }
      ]
    },
    {
      "cell_type": "code",
      "source": [
        "#Q37 To find the longest word in a sentence using list comprehension , we can use the following code:\n",
        "sentence = \"The quick brown fox jumps over the lazy dog\"\n",
        "longest_word = max([word for word in sentence.split()], key=len)\n",
        "\n",
        "print(longest_word)\n"
      ],
      "metadata": {
        "colab": {
          "base_uri": "https://localhost:8080/"
        },
        "id": "QgXwsSVEF6x1",
        "outputId": "737d0295-3341-4460-b27a-790dd5229478"
      },
      "execution_count": 7,
      "outputs": [
        {
          "output_type": "stream",
          "name": "stdout",
          "text": [
            "quick\n"
          ]
        }
      ]
    },
    {
      "cell_type": "code",
      "source": [
        "#Q38 To filter a list of strings to include only those with more than three vowels using list comprehension,you can use the following code:\n",
        "words = [\"apple\", \"banana\", \"cherry\", \"date\", \"elderberry\", \"fig\", \"grapefruit\"]\n",
        "filtered_words = [word for word in words if sum(1 for letter in word if letter in \"aeiouAEIOU\") > 3]\n",
        "\n",
        "print(filtered_words)\n"
      ],
      "metadata": {
        "colab": {
          "base_uri": "https://localhost:8080/"
        },
        "id": "n6JFZXq9GP94",
        "outputId": "eb9fb17c-70c1-439c-95e3-d0b68e83bc9d"
      },
      "execution_count": 8,
      "outputs": [
        {
          "output_type": "stream",
          "name": "stdout",
          "text": [
            "['grapefruit']\n"
          ]
        }
      ]
    },
    {
      "cell_type": "code",
      "source": [
        "#Q39 To cal calculate the sum of the digits of numbers from 1 to 1000 using list comprehension,you  can use the following code:\n",
        "sums = [sum(int(digit) for digit in str(n)) for n in range(1, 1001)]\n",
        "\n",
        "print(sums)\n"
      ],
      "metadata": {
        "colab": {
          "base_uri": "https://localhost:8080/"
        },
        "id": "wMBTS5DtGlyV",
        "outputId": "3e4e8caa-0e18-418b-8407-63c5512ea6b0"
      },
      "execution_count": 9,
      "outputs": [
        {
          "output_type": "stream",
          "name": "stdout",
          "text": [
            "[1, 2, 3, 4, 5, 6, 7, 8, 9, 1, 2, 3, 4, 5, 6, 7, 8, 9, 10, 2, 3, 4, 5, 6, 7, 8, 9, 10, 11, 3, 4, 5, 6, 7, 8, 9, 10, 11, 12, 4, 5, 6, 7, 8, 9, 10, 11, 12, 13, 5, 6, 7, 8, 9, 10, 11, 12, 13, 14, 6, 7, 8, 9, 10, 11, 12, 13, 14, 15, 7, 8, 9, 10, 11, 12, 13, 14, 15, 16, 8, 9, 10, 11, 12, 13, 14, 15, 16, 17, 9, 10, 11, 12, 13, 14, 15, 16, 17, 18, 1, 2, 3, 4, 5, 6, 7, 8, 9, 10, 2, 3, 4, 5, 6, 7, 8, 9, 10, 11, 3, 4, 5, 6, 7, 8, 9, 10, 11, 12, 4, 5, 6, 7, 8, 9, 10, 11, 12, 13, 5, 6, 7, 8, 9, 10, 11, 12, 13, 14, 6, 7, 8, 9, 10, 11, 12, 13, 14, 15, 7, 8, 9, 10, 11, 12, 13, 14, 15, 16, 8, 9, 10, 11, 12, 13, 14, 15, 16, 17, 9, 10, 11, 12, 13, 14, 15, 16, 17, 18, 10, 11, 12, 13, 14, 15, 16, 17, 18, 19, 2, 3, 4, 5, 6, 7, 8, 9, 10, 11, 3, 4, 5, 6, 7, 8, 9, 10, 11, 12, 4, 5, 6, 7, 8, 9, 10, 11, 12, 13, 5, 6, 7, 8, 9, 10, 11, 12, 13, 14, 6, 7, 8, 9, 10, 11, 12, 13, 14, 15, 7, 8, 9, 10, 11, 12, 13, 14, 15, 16, 8, 9, 10, 11, 12, 13, 14, 15, 16, 17, 9, 10, 11, 12, 13, 14, 15, 16, 17, 18, 10, 11, 12, 13, 14, 15, 16, 17, 18, 19, 11, 12, 13, 14, 15, 16, 17, 18, 19, 20, 3, 4, 5, 6, 7, 8, 9, 10, 11, 12, 4, 5, 6, 7, 8, 9, 10, 11, 12, 13, 5, 6, 7, 8, 9, 10, 11, 12, 13, 14, 6, 7, 8, 9, 10, 11, 12, 13, 14, 15, 7, 8, 9, 10, 11, 12, 13, 14, 15, 16, 8, 9, 10, 11, 12, 13, 14, 15, 16, 17, 9, 10, 11, 12, 13, 14, 15, 16, 17, 18, 10, 11, 12, 13, 14, 15, 16, 17, 18, 19, 11, 12, 13, 14, 15, 16, 17, 18, 19, 20, 12, 13, 14, 15, 16, 17, 18, 19, 20, 21, 4, 5, 6, 7, 8, 9, 10, 11, 12, 13, 5, 6, 7, 8, 9, 10, 11, 12, 13, 14, 6, 7, 8, 9, 10, 11, 12, 13, 14, 15, 7, 8, 9, 10, 11, 12, 13, 14, 15, 16, 8, 9, 10, 11, 12, 13, 14, 15, 16, 17, 9, 10, 11, 12, 13, 14, 15, 16, 17, 18, 10, 11, 12, 13, 14, 15, 16, 17, 18, 19, 11, 12, 13, 14, 15, 16, 17, 18, 19, 20, 12, 13, 14, 15, 16, 17, 18, 19, 20, 21, 13, 14, 15, 16, 17, 18, 19, 20, 21, 22, 5, 6, 7, 8, 9, 10, 11, 12, 13, 14, 6, 7, 8, 9, 10, 11, 12, 13, 14, 15, 7, 8, 9, 10, 11, 12, 13, 14, 15, 16, 8, 9, 10, 11, 12, 13, 14, 15, 16, 17, 9, 10, 11, 12, 13, 14, 15, 16, 17, 18, 10, 11, 12, 13, 14, 15, 16, 17, 18, 19, 11, 12, 13, 14, 15, 16, 17, 18, 19, 20, 12, 13, 14, 15, 16, 17, 18, 19, 20, 21, 13, 14, 15, 16, 17, 18, 19, 20, 21, 22, 14, 15, 16, 17, 18, 19, 20, 21, 22, 23, 6, 7, 8, 9, 10, 11, 12, 13, 14, 15, 7, 8, 9, 10, 11, 12, 13, 14, 15, 16, 8, 9, 10, 11, 12, 13, 14, 15, 16, 17, 9, 10, 11, 12, 13, 14, 15, 16, 17, 18, 10, 11, 12, 13, 14, 15, 16, 17, 18, 19, 11, 12, 13, 14, 15, 16, 17, 18, 19, 20, 12, 13, 14, 15, 16, 17, 18, 19, 20, 21, 13, 14, 15, 16, 17, 18, 19, 20, 21, 22, 14, 15, 16, 17, 18, 19, 20, 21, 22, 23, 15, 16, 17, 18, 19, 20, 21, 22, 23, 24, 7, 8, 9, 10, 11, 12, 13, 14, 15, 16, 8, 9, 10, 11, 12, 13, 14, 15, 16, 17, 9, 10, 11, 12, 13, 14, 15, 16, 17, 18, 10, 11, 12, 13, 14, 15, 16, 17, 18, 19, 11, 12, 13, 14, 15, 16, 17, 18, 19, 20, 12, 13, 14, 15, 16, 17, 18, 19, 20, 21, 13, 14, 15, 16, 17, 18, 19, 20, 21, 22, 14, 15, 16, 17, 18, 19, 20, 21, 22, 23, 15, 16, 17, 18, 19, 20, 21, 22, 23, 24, 16, 17, 18, 19, 20, 21, 22, 23, 24, 25, 8, 9, 10, 11, 12, 13, 14, 15, 16, 17, 9, 10, 11, 12, 13, 14, 15, 16, 17, 18, 10, 11, 12, 13, 14, 15, 16, 17, 18, 19, 11, 12, 13, 14, 15, 16, 17, 18, 19, 20, 12, 13, 14, 15, 16, 17, 18, 19, 20, 21, 13, 14, 15, 16, 17, 18, 19, 20, 21, 22, 14, 15, 16, 17, 18, 19, 20, 21, 22, 23, 15, 16, 17, 18, 19, 20, 21, 22, 23, 24, 16, 17, 18, 19, 20, 21, 22, 23, 24, 25, 17, 18, 19, 20, 21, 22, 23, 24, 25, 26, 9, 10, 11, 12, 13, 14, 15, 16, 17, 18, 10, 11, 12, 13, 14, 15, 16, 17, 18, 19, 11, 12, 13, 14, 15, 16, 17, 18, 19, 20, 12, 13, 14, 15, 16, 17, 18, 19, 20, 21, 13, 14, 15, 16, 17, 18, 19, 20, 21, 22, 14, 15, 16, 17, 18, 19, 20, 21, 22, 23, 15, 16, 17, 18, 19, 20, 21, 22, 23, 24, 16, 17, 18, 19, 20, 21, 22, 23, 24, 25, 17, 18, 19, 20, 21, 22, 23, 24, 25, 26, 18, 19, 20, 21, 22, 23, 24, 25, 26, 27, 1]\n"
          ]
        }
      ]
    },
    {
      "cell_type": "code",
      "source": [
        "#Q40 To generate a list of prime palindromic numbers using list comprehension,you can use the following code:\n",
        "def is_palindrome(n):\n",
        "    return str(n) == str(n)[::-1]\n",
        "\n",
        "primes = [n for n in range(2, 1000) if all(n % i != 0 for i in range(2, int(n ** 0.5) + 1))]\n",
        "palindromes = [n for n in primes if is_palindrome(n)]\n",
        "\n",
        "print(palindromes)\n"
      ],
      "metadata": {
        "colab": {
          "base_uri": "https://localhost:8080/"
        },
        "id": "fsEojk1JHDrN",
        "outputId": "c36a17bc-6eb8-44dc-aaa9-a3dfe4152e6d"
      },
      "execution_count": 10,
      "outputs": [
        {
          "output_type": "stream",
          "name": "stdout",
          "text": [
            "[2, 3, 5, 7, 11, 101, 131, 151, 181, 191, 313, 353, 373, 383, 727, 757, 787, 797, 919, 929]\n"
          ]
        }
      ]
    },
    {
      "cell_type": "code",
      "source": [],
      "metadata": {
        "id": "DWrvYp4GHaxe"
      },
      "execution_count": null,
      "outputs": []
    }
  ]
}